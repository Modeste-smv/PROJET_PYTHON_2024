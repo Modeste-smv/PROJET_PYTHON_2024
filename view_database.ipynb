{
 "cells": [
  {
   "cell_type": "code",
   "execution_count": 7,
   "metadata": {},
   "outputs": [
    {
     "name": "stdout",
     "output_type": "stream",
     "text": [
      "   ticker  impliedVolatility  strike     bid     ask      expiration_date  \\\n",
      "0    AAPL            0.00001   105.0  135.95  139.75  2024-12-13 00:00:00   \n",
      "1    AAPL            0.00001   135.0    0.00    0.00  2024-12-13 00:00:00   \n",
      "2    AAPL            0.00001   140.0    0.00    0.00  2024-12-13 00:00:00   \n",
      "3    AAPL            0.00001   150.0    0.00    0.00  2024-12-13 00:00:00   \n",
      "4    AAPL            0.00001   155.0    0.00    0.00  2024-12-13 00:00:00   \n",
      "5    AAPL            0.00001   160.0    0.00    0.00  2024-12-13 00:00:00   \n",
      "6    AAPL            0.00001   165.0   77.95   78.95  2024-12-13 00:00:00   \n",
      "7    AAPL            0.00001   170.0    0.00    0.00  2024-12-13 00:00:00   \n",
      "8    AAPL            0.00001   175.0    0.00    0.00  2024-12-13 00:00:00   \n",
      "9    AAPL            0.00001   180.0    0.00    0.00  2024-12-13 00:00:00   \n",
      "10   AAPL            0.00001   185.0    0.00    0.00  2024-12-13 00:00:00   \n",
      "11   AAPL            0.00001   190.0    0.00    0.00  2024-12-13 00:00:00   \n",
      "12   AAPL            0.00001   195.0    0.00    0.00  2024-12-13 00:00:00   \n",
      "13   AAPL            0.00001   200.0    0.00    0.00  2024-12-13 00:00:00   \n",
      "14   AAPL            0.00001   205.0    0.00    0.00  2024-12-13 00:00:00   \n",
      "\n",
      "   optionType  lastPrice  \n",
      "0           C     121.60  \n",
      "1           C     108.52  \n",
      "2           C     104.47  \n",
      "3           C      93.31  \n",
      "4           C      88.68  \n",
      "5           C      84.34  \n",
      "6           C      58.67  \n",
      "7           C      75.05  \n",
      "8           C      68.54  \n",
      "9           C      66.98  \n",
      "10          C      61.25  \n",
      "11          C      57.17  \n",
      "12          C      52.13  \n",
      "13          C      47.00  \n",
      "14          C      42.04  \n"
     ]
    }
   ],
   "source": [
    "import sqlite3\n",
    "import pandas as pd\n",
    "\n",
    "conn = sqlite3.connect('options_data.db')\n",
    "df = pd.read_sql_query(\"SELECT * FROM Options LIMIT 15;\", conn)\n",
    "print(df)\n",
    "conn.close()"
   ]
  }
 ],
 "metadata": {
  "kernelspec": {
   "display_name": "base",
   "language": "python",
   "name": "python3"
  },
  "language_info": {
   "codemirror_mode": {
    "name": "ipython",
    "version": 3
   },
   "file_extension": ".py",
   "mimetype": "text/x-python",
   "name": "python",
   "nbconvert_exporter": "python",
   "pygments_lexer": "ipython3",
   "version": "3.12.6"
  }
 },
 "nbformat": 4,
 "nbformat_minor": 2
}
